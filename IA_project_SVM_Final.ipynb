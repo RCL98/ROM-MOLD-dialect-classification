{
  "nbformat": 4,
  "nbformat_minor": 0,
  "metadata": {
    "colab": {
      "name": "IA_project_SVM_Final.ipynb",
      "provenance": [],
      "machine_shape": "hm"
    },
    "kernelspec": {
      "name": "python3",
      "display_name": "Python 3"
    }
  },
  "cells": [
    {
      "cell_type": "code",
      "metadata": {
        "id": "bloelg8rat_z",
        "colab_type": "code",
        "colab": {}
      },
      "source": [
        "import numpy as np\n",
        "import pandas as pd\n",
        "import copy\n",
        "import math\n",
        "from collections import Counter\n",
        "from sklearn.feature_extraction.text import CountVectorizer, TfidfVectorizer\n",
        "from sklearn.model_selection import StratifiedKFold, train_test_split, GridSearchCV\n",
        "from sklearn.metrics import accuracy_score, precision_score, recall_score, confusion_matrix, f1_score\n",
        "import string\n",
        "import  random"
      ],
      "execution_count": 0,
      "outputs": []
    },
    {
      "cell_type": "code",
      "metadata": {
        "id": "61lfrQohbOgu",
        "colab_type": "code",
        "outputId": "5bb9b718-96f7-4d41-f79c-f45d35010dc5",
        "colab": {
          "base_uri": "https://localhost:8080/",
          "height": 33
        }
      },
      "source": [
        "cd /content/drive/My Drive/Proiect_IA_3"
      ],
      "execution_count": 52,
      "outputs": [
        {
          "output_type": "stream",
          "text": [
            "/content/drive/My Drive/Proiect_IA_3\n"
          ],
          "name": "stdout"
        }
      ]
    },
    {
      "cell_type": "code",
      "metadata": {
        "id": "MLNdmr0IiP-N",
        "colab_type": "code",
        "colab": {}
      },
      "source": [
        "train_data = pd.read_csv('train_data.csv', sep='\\t', encoding='utf-8', lineterminator='\\n', header = 0, names=['Id', 'Text', 'Label'])\n",
        "valid_data = pd.read_csv('valid_data.csv', sep='\\t', encoding='utf-8', lineterminator='\\n', header = 0, names=['Id', 'Text', 'Label'])\n",
        "test_data = pd.read_csv('valid_data.csv', sep='\\t', encoding='utf-8', lineterminator='\\n', header = 0, names=['id', 'Text'])"
      ],
      "execution_count": 0,
      "outputs": []
    },
    {
      "cell_type": "code",
      "metadata": {
        "id": "qRPenLjsvsdk",
        "colab_type": "code",
        "colab": {}
      },
      "source": [
        "stop_words = ['hZ', '}e', 't@A', 'me', ':|lb%', 'h@@m', '}:', 'm}:', 'm*g', 'h}Ah', 'kg', 'k:', '}m#', 'g*g', 't@%', 'm}A%', 'Ae', '}A', 'm@', 'hg']"
      ],
      "execution_count": 0,
      "outputs": []
    },
    {
      "cell_type": "code",
      "metadata": {
        "id": "2zxiRQSEixNh",
        "colab_type": "code",
        "colab": {}
      },
      "source": [
        "def splitter(text):\n",
        "  return text.split()"
      ],
      "execution_count": 0,
      "outputs": []
    },
    {
      "cell_type": "code",
      "metadata": {
        "id": "_iW6-C0zil3L",
        "colab_type": "code",
        "colab": {}
      },
      "source": [
        "vectorizer = TfidfVectorizer(analyzer='word', tokenizer=splitter, stop_words = stop_words, lowercase=False, ngram_range=(1,2), max_features= 20000)"
      ],
      "execution_count": 0,
      "outputs": []
    },
    {
      "cell_type": "code",
      "metadata": {
        "id": "F1iplbBvjaY0",
        "colab_type": "code",
        "colab": {}
      },
      "source": [
        "trainVec = vectorizer.fit_transform(train_data['Text'].tolist())\n",
        "validVec = vectorizer.transform(valid_data['Text'].tolist())\n",
        "testVec = vectorizer.transform(test_data['Text'].tolist())"
      ],
      "execution_count": 0,
      "outputs": []
    },
    {
      "cell_type": "code",
      "metadata": {
        "id": "daYF1S5KpxGj",
        "colab_type": "code",
        "colab": {}
      },
      "source": [
        "trainLabels = np.asarray(train_data['Label'].tolist())\n",
        "validLabels = np.asarray(valid_data['Label'].tolist()) "
      ],
      "execution_count": 0,
      "outputs": []
    },
    {
      "cell_type": "code",
      "metadata": {
        "id": "agVhRAtfgoez",
        "colab_type": "code",
        "colab": {}
      },
      "source": [
        "from sklearn.svm import SVC\n",
        "modelSVC = SVC(random_state=0, cache_size=2000)"
      ],
      "execution_count": 0,
      "outputs": []
    },
    {
      "cell_type": "code",
      "metadata": {
        "id": "ZEKaFWwokRqC",
        "colab_type": "code",
        "colab": {}
      },
      "source": [
        "params = {'kernel': ['rbf', 'linear', 'poly', 'sigomid'], 'C': [0.01, 1, 10], 'gamma':['scale', 'auto']}\n",
        "gs = GridSearchCV(modelSVC, params, scoring = \"accuracy\", cv = 5)"
      ],
      "execution_count": 0,
      "outputs": []
    },
    {
      "cell_type": "code",
      "metadata": {
        "id": "iG6RtXnjkpjv",
        "colab_type": "code",
        "colab": {}
      },
      "source": [
        "gs.fit(train_vectors.toarray()[:1000], train_labels[:1000])"
      ],
      "execution_count": 0,
      "outputs": []
    },
    {
      "cell_type": "code",
      "metadata": {
        "id": "KTnvXa3UsQw_",
        "colab_type": "code",
        "colab": {}
      },
      "source": [
        "print(\"Best params: \", gs.best_params_)\n",
        "print(\"Best accuracy: \", gs.best_score_)"
      ],
      "execution_count": 0,
      "outputs": []
    },
    {
      "cell_type": "code",
      "metadata": {
        "id": "PyTqIdicif51",
        "colab_type": "code",
        "colab": {}
      },
      "source": [
        "modelSVC.fit(train_vectors.toarray(), train_labels)"
      ],
      "execution_count": 0,
      "outputs": []
    },
    {
      "cell_type": "code",
      "metadata": {
        "id": "_Ut4bNhTjAEs",
        "colab_type": "code",
        "colab": {}
      },
      "source": [
        "validPred = modelSVC.predict(validVec.toarray())"
      ],
      "execution_count": 0,
      "outputs": []
    },
    {
      "cell_type": "code",
      "metadata": {
        "id": "ZRvBwrti4EKf",
        "colab_type": "code",
        "colab": {}
      },
      "source": [
        "print(\"Accuracy score: \", accuracy_score(valid_labels, validPred))\n",
        "print(\"F1 score: \", f1_score(valid_labels, validPred))\n",
        "print(\"Confusion matrix: \\n\", confusion_matrix(valid_labels, validPred))"
      ],
      "execution_count": 0,
      "outputs": []
    },
    {
      "cell_type": "code",
      "metadata": {
        "id": "dxFSqllD7PKy",
        "colab_type": "code",
        "colab": {}
      },
      "source": [
        "testPred = pd.Series(modelSVC.predict(testVec.toarray()))"
      ],
      "execution_count": 0,
      "outputs": []
    },
    {
      "cell_type": "code",
      "metadata": {
        "id": "lfxD_Kj27XXB",
        "colab_type": "code",
        "colab": {}
      },
      "source": [
        "test_data['label'] = testPred"
      ],
      "execution_count": 0,
      "outputs": []
    },
    {
      "cell_type": "code",
      "metadata": {
        "id": "33nTT5dY7hrs",
        "colab_type": "code",
        "colab": {}
      },
      "source": [
        "test_data.to_csv('test_svm_2.csv', spe = ',', line_terminator = '\\n', index = False, encoding = 'utf-8', columns=['id', 'label'])"
      ],
      "execution_count": 0,
      "outputs": []
    }
  ]
}
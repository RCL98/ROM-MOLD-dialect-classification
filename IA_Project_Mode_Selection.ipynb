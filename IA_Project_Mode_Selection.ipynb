{
  "nbformat": 4,
  "nbformat_minor": 0,
  "metadata": {
    "colab": {
      "name": "IA_Project_Mode_Selection.ipynb",
      "provenance": [],
      "machine_shape": "hm"
    },
    "kernelspec": {
      "name": "python3",
      "display_name": "Python 3"
    }
  },
  "cells": [
    {
      "cell_type": "code",
      "metadata": {
        "id": "bloelg8rat_z",
        "colab_type": "code",
        "colab": {}
      },
      "source": [
        "import numpy as np\n",
        "import pandas as pd\n",
        "import copy\n",
        "import math\n",
        "from collections import Counter\n",
        "from sklearn.feature_extraction.text import CountVectorizer, TfidfVectorizer\n",
        "from sklearn.model_selection import StratifiedKFold, train_test_split, GridSearchCV\n",
        "from sklearn.metrics import accuracy_score, precision_score, recall_score, confusion_matrix, f1_score\n",
        "import string\n",
        "import  random"
      ],
      "execution_count": 0,
      "outputs": []
    },
    {
      "cell_type": "code",
      "metadata": {
        "id": "61lfrQohbOgu",
        "colab_type": "code",
        "outputId": "5bb9b718-96f7-4d41-f79c-f45d35010dc5",
        "colab": {
          "base_uri": "https://localhost:8080/",
          "height": 33
        }
      },
      "source": [
        "cd /content/drive/My Drive/Proiect_IA_3"
      ],
      "execution_count": 0,
      "outputs": [
        {
          "output_type": "stream",
          "text": [
            "/content/drive/My Drive/Proiect_IA_3\n"
          ],
          "name": "stdout"
        }
      ]
    },
    {
      "cell_type": "code",
      "metadata": {
        "id": "MLNdmr0IiP-N",
        "colab_type": "code",
        "colab": {}
      },
      "source": [
        "train_data = pd.read_csv('train_data.csv', sep='\\t', encoding='utf-8', lineterminator='\\n', header = 0, names=['Id', 'Text', 'Label'])\n",
        "valid_data = pd.read_csv('valid_data.csv', sep='\\t', encoding='utf-8', lineterminator='\\n', header = 0, names=['Id', 'Text', 'Label'])\n",
        "test_data = pd.read_csv('valid_data.csv', sep='\\t', encoding='utf-8', lineterminator='\\n', header = 0, names=['Id', 'Text'])"
      ],
      "execution_count": 0,
      "outputs": []
    },
    {
      "cell_type": "code",
      "metadata": {
        "id": "qRPenLjsvsdk",
        "colab_type": "code",
        "colab": {}
      },
      "source": [
        "stop_words = ['hZ', '}e', 't@A', 'me', ':|lb%', 'h@@m', '}:', 'm}:', 'm*g', 'h}Ah', 'kg', 'k:', '}m#', 'g*g', 't@%', 'm}A%', 'Ae', '}A', 'm@', 'hg']"
      ],
      "execution_count": 0,
      "outputs": []
    },
    {
      "cell_type": "code",
      "metadata": {
        "id": "K_S2tM4zNOJ-",
        "colab_type": "code",
        "colab": {}
      },
      "source": [
        "X_train, X_valid, y_train, y_valid = train_test_split(train_data['Text'].tolist(), train_data['Label'].tolist(), test_size=0.2, random_state=42, stratify = train_data['Label'].tolist())"
      ],
      "execution_count": 0,
      "outputs": []
    },
    {
      "cell_type": "code",
      "metadata": {
        "id": "2zxiRQSEixNh",
        "colab_type": "code",
        "colab": {}
      },
      "source": [
        "def splitter(text):\n",
        "  return text.split()"
      ],
      "execution_count": 0,
      "outputs": []
    },
    {
      "cell_type": "code",
      "metadata": {
        "id": "_iW6-C0zil3L",
        "colab_type": "code",
        "colab": {}
      },
      "source": [
        "vectorizer = TfidfVectorizer(analyzer='word', tokenizer=splitter, stop_words = stop_words, lowercase=False, ngram_range=(1,2), max_features= 20000)"
      ],
      "execution_count": 0,
      "outputs": []
    },
    {
      "cell_type": "code",
      "metadata": {
        "id": "F1iplbBvjaY0",
        "colab_type": "code",
        "colab": {}
      },
      "source": [
        "trainVec = vectorizer.fit_transform(X_train)\n",
        "validVec = vectorizer.transform(X_valid)\n",
        "testVec = vectorizer.transform(valid_data['Text'].tolist())"
      ],
      "execution_count": 0,
      "outputs": []
    },
    {
      "cell_type": "code",
      "metadata": {
        "id": "daYF1S5KpxGj",
        "colab_type": "code",
        "colab": {}
      },
      "source": [
        "trainLabels = np.asarray(y_train)\n",
        "validLabels = np.asarray(y_valid) "
      ],
      "execution_count": 0,
      "outputs": []
    },
    {
      "cell_type": "code",
      "metadata": {
        "id": "rrrE6aMw3rCF",
        "colab_type": "code",
        "colab": {}
      },
      "source": [
        "from sklearn.linear_model import LogisticRegression\n",
        "from sklearn.neighbors import KNeighborsClassifier\n",
        "from sklearn.naive_bayes import GaussianNB\n",
        "from sklearn.svm import SVC\n",
        "from sklearn.ensemble import AdaBoostClassifier, RandomForestClassifier\n",
        "import xgboost as xgb"
      ],
      "execution_count": 0,
      "outputs": []
    },
    {
      "cell_type": "code",
      "metadata": {
        "id": "GObgHhZz4z7g",
        "colab_type": "code",
        "colab": {}
      },
      "source": [
        "modelLogic = LogisticRegression()\n",
        "modelKNN = KNeighborsClassifier()\n",
        "modelNB = GaussianNB()\n",
        "modelSVM = SVC()\n",
        "modelAda = AdaBoostClassifier()\n",
        "modelRandF = RandomForestClassifier()\n",
        "modelxgb = xgb.XGBClassifier()"
      ],
      "execution_count": 0,
      "outputs": []
    },
    {
      "cell_type": "code",
      "metadata": {
        "id": "_Ut4bNhTjAEs",
        "colab_type": "code",
        "colab": {}
      },
      "source": [
        "modelLogic.fit(trainVec, trainLabels)"
      ],
      "execution_count": 0,
      "outputs": []
    },
    {
      "cell_type": "code",
      "metadata": {
        "id": "HnAc229V5k7u",
        "colab_type": "code",
        "colab": {}
      },
      "source": [
        "modelKNN.fit(trainVec, trainLabels)"
      ],
      "execution_count": 0,
      "outputs": []
    },
    {
      "cell_type": "code",
      "metadata": {
        "id": "ot5jji525mpM",
        "colab_type": "code",
        "colab": {}
      },
      "source": [
        "modelNB.fit(trainVec, trainLabels)"
      ],
      "execution_count": 0,
      "outputs": []
    },
    {
      "cell_type": "code",
      "metadata": {
        "id": "iChP9Ud65ntH",
        "colab_type": "code",
        "colab": {}
      },
      "source": [
        "modelAda.fit(trainVec, trainLabels)"
      ],
      "execution_count": 0,
      "outputs": []
    },
    {
      "cell_type": "code",
      "metadata": {
        "id": "KgTrMYwG5oSB",
        "colab_type": "code",
        "colab": {}
      },
      "source": [
        "modelRandF.fit(trainVec, trainLabels)"
      ],
      "execution_count": 0,
      "outputs": []
    },
    {
      "cell_type": "code",
      "metadata": {
        "id": "h5-CWYP-5ot1",
        "colab_type": "code",
        "colab": {}
      },
      "source": [
        "modelxgb.fit(trainVec, trainLabels)"
      ],
      "execution_count": 0,
      "outputs": []
    },
    {
      "cell_type": "code",
      "metadata": {
        "id": "z2x2po6p5sub",
        "colab_type": "code",
        "colab": {}
      },
      "source": [
        "modelSVM.fit(trainVec, trainLabels)"
      ],
      "execution_count": 0,
      "outputs": []
    },
    {
      "cell_type": "code",
      "metadata": {
        "id": "LEcM6nx35vbD",
        "colab_type": "code",
        "colab": {}
      },
      "source": [
        "predLogic = modelLogic.predict(validVec)\n",
        "predKNN = modelKNN.predict(validVec)\n",
        "predNb = modelNB.predict(validVec)\n",
        "predAda = modelAda.predict(validVec)\n",
        "predXgb = modelxgb.predict(validVec)\n",
        "predSVM = modelSVM.predict(validVec)"
      ],
      "execution_count": 0,
      "outputs": []
    },
    {
      "cell_type": "code",
      "metadata": {
        "id": "ZRvBwrti4EKf",
        "colab_type": "code",
        "colab": {}
      },
      "source": [
        "print(\"Accuracy score: \", accuracy_score(validLabels, predLogic))\n",
        "print(\"F1 score: \", f1_score(validLabels, predLogic))\n",
        "print(\"Confusion matrix: \\n\", confusion_matrix(validLabels, predLogic))"
      ],
      "execution_count": 0,
      "outputs": []
    },
    {
      "cell_type": "code",
      "metadata": {
        "id": "bEUSk2x46WMD",
        "colab_type": "code",
        "colab": {}
      },
      "source": [
        "print(\"Accuracy score: \", accuracy_score(validLabels, predKNN))\n",
        "print(\"F1 score: \", f1_score(validLabels, predKNN))\n",
        "print(\"Confusion matrix: \\n\", confusion_matrix(validLabels, predKNN))"
      ],
      "execution_count": 0,
      "outputs": []
    },
    {
      "cell_type": "code",
      "metadata": {
        "id": "oCblHUU46XGr",
        "colab_type": "code",
        "colab": {}
      },
      "source": [
        "print(\"Accuracy score: \", accuracy_score(validLabels, predNb))\n",
        "print(\"F1 score: \", f1_score(validLabels, predNb))\n",
        "print(\"Confusion matrix: \\n\", confusion_matrix(validLabels, predNb))"
      ],
      "execution_count": 0,
      "outputs": []
    },
    {
      "cell_type": "code",
      "metadata": {
        "id": "fnKd2ied6iB7",
        "colab_type": "code",
        "colab": {}
      },
      "source": [
        "print(\"Accuracy score: \", accuracy_score(validLabels, predAda))\n",
        "print(\"F1 score: \", f1_score(validLabels, predAda))\n",
        "print(\"Confusion matrix: \\n\", confusion_matrix(validLabels, predAda))"
      ],
      "execution_count": 0,
      "outputs": []
    },
    {
      "cell_type": "code",
      "metadata": {
        "id": "6coegwsp62HY",
        "colab_type": "code",
        "colab": {}
      },
      "source": [
        "print(\"Accuracy score: \", accuracy_score(validLabels, predXgb))\n",
        "print(\"F1 score: \", f1_score(validLabels, predXgb))\n",
        "print(\"Confusion matrix: \\n\", confusion_matrix(validLabels, predXgb))"
      ],
      "execution_count": 0,
      "outputs": []
    },
    {
      "cell_type": "code",
      "metadata": {
        "id": "wHyMzATM65Nc",
        "colab_type": "code",
        "colab": {}
      },
      "source": [
        "print(\"Accuracy score: \", accuracy_score(validLabels, predSVM))\n",
        "print(\"F1 score: \", f1_score(validLabels, predSVM))\n",
        "print(\"Confusion matrix: \\n\", confusion_matrix(validLabels, predSVM))"
      ],
      "execution_count": 0,
      "outputs": []
    }
  ]
}